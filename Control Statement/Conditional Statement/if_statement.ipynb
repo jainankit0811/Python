{
 "cells": [
  {
   "cell_type": "markdown",
   "id": "9dc03cb3-6660-40f2-a135-0ec8837785bf",
   "metadata": {},
   "source": [
    "# Latchur - 6"
   ]
  },
  {
   "cell_type": "markdown",
   "id": "f579c8e6-fbdc-41c5-b510-481bb9826b24",
   "metadata": {},
   "source": [
    "### -> if Statement"
   ]
  },
  {
   "cell_type": "code",
   "execution_count": 1,
   "id": "d82cdeb4-9330-4390-b347-d11de3504994",
   "metadata": {},
   "outputs": [
    {
     "name": "stdout",
     "output_type": "stream",
     "text": [
      "20 is greater then 10\n"
     ]
    }
   ],
   "source": [
    "i = 20\n",
    "if(i>10):\n",
    "    print(\"20 is greater then 10\")\n",
    "    "
   ]
  },
  {
   "cell_type": "code",
   "execution_count": null,
   "id": "ee0ad0f4-56b4-4856-9f84-1df875a59bff",
   "metadata": {},
   "outputs": [],
   "source": []
  }
 ],
 "metadata": {
  "kernelspec": {
   "display_name": "Python 3 (ipykernel)",
   "language": "python",
   "name": "python3"
  },
  "language_info": {
   "codemirror_mode": {
    "name": "ipython",
    "version": 3
   },
   "file_extension": ".py",
   "mimetype": "text/x-python",
   "name": "python",
   "nbconvert_exporter": "python",
   "pygments_lexer": "ipython3",
   "version": "3.10.12"
  }
 },
 "nbformat": 4,
 "nbformat_minor": 5
}
