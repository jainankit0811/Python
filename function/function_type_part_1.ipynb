{
 "cells": [
  {
   "cell_type": "markdown",
   "id": "aae284a2-7c7f-440f-8c37-e0c7dd4323b7",
   "metadata": {},
   "source": [
    "# Function_part_1"
   ]
  },
  {
   "cell_type": "markdown",
   "id": "0a224ac2-7757-4201-8848-391217a9adb7",
   "metadata": {},
   "source": [
    "## Letchur - 4"
   ]
  },
  {
   "cell_type": "markdown",
   "id": "63aeef8a-848c-41fc-be38-3cbce47981d0",
   "metadata": {},
   "source": [
    "### -> Float functiion"
   ]
  },
  {
   "cell_type": "code",
   "execution_count": 7,
   "id": "6703d2c0-deb9-4b2d-9955-851e13bb1359",
   "metadata": {},
   "outputs": [
    {
     "name": "stdout",
     "output_type": "stream",
     "text": [
      "<class 'int'>\n",
      "10\n",
      "<class 'float'>\n",
      "10.0\n"
     ]
    }
   ],
   "source": [
    "num_int = 10\n",
    "print(type(num_int))\n",
    "print(num_int)\n",
    "a = float(num_int)\n",
    "print(type(a))\n",
    "print(a)"
   ]
  },
  {
   "cell_type": "code",
   "execution_count": 15,
   "id": "888fa080-9c26-4d12-8507-857887258a77",
   "metadata": {},
   "outputs": [
    {
     "name": "stdout",
     "output_type": "stream",
     "text": [
      "<class 'str'>\n",
      "3.0\n",
      "<class 'float'>\n",
      "3.0\n",
      "<class 'str'>\n",
      "20\n",
      "<class 'float'>\n",
      "20.0\n"
     ]
    }
   ],
   "source": [
    "a = \"3.0\"\n",
    "b = \"20\"\n",
    "c = float(a)\n",
    "d = float(b)\n",
    "print(type(a))\n",
    "print(a)\n",
    "print(type(c))\n",
    "print(c)\n",
    "print(type(b))\n",
    "print(b)\n",
    "print(type(d))\n",
    "print(d)"
   ]
  },
  {
   "cell_type": "markdown",
   "id": "4ecac72f-bb69-493e-bcc4-b4826d042579",
   "metadata": {},
   "source": [
    "### -> Int Function"
   ]
  },
  {
   "cell_type": "code",
   "execution_count": 20,
   "id": "369eeb8a-fef1-4101-a684-60b9fe8ce75c",
   "metadata": {},
   "outputs": [
    {
     "name": "stdout",
     "output_type": "stream",
     "text": [
      "3\n"
     ]
    }
   ],
   "source": [
    "a = \"3\"\n",
    "b = int(a)\n",
    "print(a)"
   ]
  },
  {
   "cell_type": "code",
   "execution_count": 23,
   "id": "0dfdcb57-cee8-46d4-9e69-7b08577e1906",
   "metadata": {},
   "outputs": [
    {
     "name": "stdout",
     "output_type": "stream",
     "text": [
      "3\n"
     ]
    }
   ],
   "source": [
    "a = \"3.0\"\n",
    "b = int(float(a))\n",
    "print(b)"
   ]
  },
  {
   "cell_type": "markdown",
   "id": "9327a1cb-a6ea-4714-aa78-666ed4c0e5b5",
   "metadata": {},
   "source": [
    "### -> String function\n"
   ]
  },
  {
   "cell_type": "code",
   "execution_count": 33,
   "id": "be118506-9ad5-48c1-88b8-223374a76c1c",
   "metadata": {},
   "outputs": [
    {
     "name": "stdout",
     "output_type": "stream",
     "text": [
      "<class 'int'>\n",
      "<class 'str'>\n",
      "7\n",
      "43\n"
     ]
    }
   ],
   "source": [
    "b = 3\n",
    "c = str(b)\n",
    "print(type(b))\n",
    "print(type(c))\n",
    "a = 4 \n",
    "print(a+b)\n",
    "a = str(a)\n",
    "print(a+c)\n"
   ]
  },
  {
   "cell_type": "markdown",
   "id": "68fd9552-c328-48f0-bf4e-1c2fcfaf8a66",
   "metadata": {},
   "source": [
    "### -> Complex finction"
   ]
  },
  {
   "cell_type": "code",
   "execution_count": 37,
   "id": "d5191110-a9e2-4fed-abc3-733936b848af",
   "metadata": {},
   "outputs": [
    {
     "name": "stdout",
     "output_type": "stream",
     "text": [
      "(4+2j)\n",
      "(21+22j)\n"
     ]
    }
   ],
   "source": [
    "a = complex(4,2)\n",
    "b = complex(21,22)\n",
    "print(a)\n",
    "print(b)"
   ]
  },
  {
   "cell_type": "markdown",
   "id": "599993ba-ff92-40df-a17d-d64cfc6dcc40",
   "metadata": {},
   "source": [
    "### -> ads function"
   ]
  },
  {
   "cell_type": "code",
   "execution_count": 41,
   "id": "34007d34-a8b4-43dd-82c3-2b612241679b",
   "metadata": {},
   "outputs": [
    {
     "name": "stdout",
     "output_type": "stream",
     "text": [
      "25\n",
      "5.0\n"
     ]
    }
   ],
   "source": [
    "# It's giving only positive function\n",
    "\n",
    "a = -25\n",
    "print(abs(a))\n",
    "b = -3+4j \n",
    "print(abs(b))"
   ]
  },
  {
   "cell_type": "markdown",
   "id": "21808859-747d-4af5-9d6d-e8adaa3e5f59",
   "metadata": {},
   "source": [
    "### -> Len function"
   ]
  },
  {
   "cell_type": "code",
   "execution_count": 56,
   "id": "771faabf-24c5-4b30-b900-eced5746454b",
   "metadata": {},
   "outputs": [
    {
     "name": "stdout",
     "output_type": "stream",
     "text": [
      "19\n",
      "5\n",
      "5\n",
      "2\n",
      "7\n"
     ]
    }
   ],
   "source": [
    "a = \"Ankit is a good boy\"\n",
    "print(len(a))\n",
    "\n",
    "b = [\"Ankit\", \"is\",\"a\", \"good\", \"boy\"]\n",
    "print(len(b))\n",
    "\n",
    "c = [21,22,23,24,25]\n",
    "print(len(c))\n",
    "\n",
    "d = [{\"ankit\",\"Rohit\",\"jayesh\",\"Quaid\"},{\"Anshika\",\"Pragya\",\"Khushi\"}]\n",
    "print(len(d))\n",
    "print(len(d[0]) + len(d[1]))"
   ]
  },
  {
   "cell_type": "code",
   "execution_count": null,
   "id": "e8570505-aa8e-4454-aeff-688a2ef2bc05",
   "metadata": {},
   "outputs": [],
   "source": []
  },
  {
   "cell_type": "code",
   "execution_count": null,
   "id": "08364bd4-4c42-496d-b851-ac3e0ebf272b",
   "metadata": {},
   "outputs": [],
   "source": []
  }
 ],
 "metadata": {
  "kernelspec": {
   "display_name": "Python 3 (ipykernel)",
   "language": "python",
   "name": "python3"
  },
  "language_info": {
   "codemirror_mode": {
    "name": "ipython",
    "version": 3
   },
   "file_extension": ".py",
   "mimetype": "text/x-python",
   "name": "python",
   "nbconvert_exporter": "python",
   "pygments_lexer": "ipython3",
   "version": "3.10.12"
  }
 },
 "nbformat": 4,
 "nbformat_minor": 5
}
